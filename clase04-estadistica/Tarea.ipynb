{
 "cells": [
  {
   "cell_type": "markdown",
   "id": "fda97ea4",
   "metadata": {},
   "source": [
    "## Tarea clase04\n",
    "\n",
    "Realizar un análisis gráfico del siguiente dataset:\n",
    "\n",
    "https://www.kaggle.com/datasets/fedesoriano/stroke-prediction-dataset\n",
    "\n",
    "- ¿Qué tipo de variables identifica? Clasifiquelas\n",
    "- Qué hipotesis puede plantear de este set de datos respecto a la variable stroke\n",
    "- ¿Que tipos de gráficos utilizaría? ¿Por qué?\n",
    "- ¿Que medidas de tendencia central y medidas de orden hay en cada columna? Interprete cada una de ellas\n",
    "- ¿Hay outliers? ¿A qué se deben?"
   ]
  }
 ],
 "metadata": {
  "kernelspec": {
   "display_name": "Python 3 (ipykernel)",
   "language": "python",
   "name": "python3"
  },
  "language_info": {
   "codemirror_mode": {
    "name": "ipython",
    "version": 3
   },
   "file_extension": ".py",
   "mimetype": "text/x-python",
   "name": "python",
   "nbconvert_exporter": "python",
   "pygments_lexer": "ipython3",
   "version": "3.10.11"
  }
 },
 "nbformat": 4,
 "nbformat_minor": 5
}
