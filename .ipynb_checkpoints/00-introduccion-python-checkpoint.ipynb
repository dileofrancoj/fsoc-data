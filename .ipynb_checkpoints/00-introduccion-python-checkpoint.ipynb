{
 "cells": [
  {
   "cell_type": "markdown",
   "id": "e6fca8ed",
   "metadata": {},
   "source": [
    "# Recursos\n",
    "\n",
    "Github: https://github.com/dileofrancoj/fsoc-data\n",
    "\n",
    "Colab: https://colab.research.google.com/\n",
    "\n",
    "Canal de Youtube: https://www.youtube.com/@FrancoDiLeo/videos\n",
    "\n",
    "# Clases\n",
    "- 01: Introducción a Python\n",
    "- 02: Python\n",
    "- 03: Librerias de visualización & manejo de datos\n",
    "- 04: Estadística descriptiva\n",
    "- 05: Análisis exploratorio de datos 1\n",
    "- 06: Analisis exploratorio de datos 2\n",
    "- 07: Modelos de regresión lineal simple\n",
    "- 08: Modelos de regresión múltiple\n",
    "\n",
    "# Introducción a Python\n",
    "\n",
    "Lenguaje de programación ampliamente utilizado"
   ]
  },
  {
   "cell_type": "code",
   "execution_count": 2,
   "id": "0030b816",
   "metadata": {},
   "outputs": [
    {
     "name": "stdout",
     "output_type": "stream",
     "text": [
      "Hola mundo de sociales\n"
     ]
    }
   ],
   "source": [
    "print(\"Hola mundo de sociales\")"
   ]
  },
  {
   "cell_type": "code",
   "execution_count": 3,
   "id": "a7fd3584",
   "metadata": {},
   "outputs": [
    {
     "name": "stdout",
     "output_type": "stream",
     "text": [
      "Hola me llamo franco y tengo 29 años\n"
     ]
    }
   ],
   "source": [
    "print(\"Hola me llamo franco y tengo 29 años\")"
   ]
  },
  {
   "cell_type": "code",
   "execution_count": 5,
   "id": "ddfaf823",
   "metadata": {},
   "outputs": [
    {
     "name": "stdout",
     "output_type": "stream",
     "text": [
      "Emiliano se rie porque entiende\n",
      "Fran pregunta muchas pavadas 😎\n"
     ]
    }
   ],
   "source": [
    "print(\"Emiliano se rie porque entiende\")\n",
    "print(\"Fran pregunta muchas pavadas 😎\")"
   ]
  },
  {
   "cell_type": "markdown",
   "id": "c99ee5f4",
   "metadata": {},
   "source": [
    "## Variables y tipos de datos\n",
    "\n",
    "Una variable es un lugar dentro de la memoria que va a ser usado para guardar un valor en concreto\n"
   ]
  },
  {
   "cell_type": "code",
   "execution_count": 9,
   "id": "ae0fa6cb",
   "metadata": {},
   "outputs": [
    {
     "name": "stdout",
     "output_type": "stream",
     "text": [
      "franco\n",
      "Micaela\n"
     ]
    }
   ],
   "source": [
    "nombre = 'franco'\n",
    "print(nombre)\n",
    "nombre = \"Micaela\"\n",
    "print(nombre)"
   ]
  },
  {
   "cell_type": "code",
   "execution_count": 11,
   "id": "a6b6854c",
   "metadata": {},
   "outputs": [
    {
     "name": "stdout",
     "output_type": "stream",
     "text": [
      "Hola! Bienvenida al curso fsoc-data Micaela\n"
     ]
    }
   ],
   "source": [
    "print(\"Hola! Bienvenida al curso fsoc-data\",nombre) # concatenar\n",
    "# overwriting"
   ]
  },
  {
   "cell_type": "code",
   "execution_count": 13,
   "id": "4c9782c2",
   "metadata": {},
   "outputs": [
    {
     "name": "stdout",
     "output_type": "stream",
     "text": [
      "Micaela\n"
     ]
    }
   ],
   "source": [
    "print(nombre)\n",
    "nombre = \"mi tia marta\""
   ]
  },
  {
   "cell_type": "code",
   "execution_count": 15,
   "id": "030b735b",
   "metadata": {},
   "outputs": [
    {
     "name": "stdout",
     "output_type": "stream",
     "text": [
      "mi tia marta\n"
     ]
    }
   ],
   "source": [
    "print(nombre)"
   ]
  },
  {
   "cell_type": "markdown",
   "id": "cf699f6c",
   "metadata": {},
   "source": [
    "## Tipos de datos\n",
    "\n",
    "> No todos los datos son iguales\n",
    "\n",
    "- string (texto)\n",
    "- int (entero) \n",
    "- float (flotante (coma flotante))\n",
    "- booleano (veradero)"
   ]
  },
  {
   "cell_type": "code",
   "execution_count": 24,
   "id": "414f7336",
   "metadata": {},
   "outputs": [],
   "source": [
    "nombre = \"Franco\" # string (cadena de texto)\n",
    "edad = 29 # integer (entero)\n",
    "altura = 1.80 # float (coma flotante (decimal))\n",
    "casado = False # booleano "
   ]
  },
  {
   "cell_type": "code",
   "execution_count": 26,
   "id": "dd2b8feb",
   "metadata": {},
   "outputs": [
    {
     "name": "stdout",
     "output_type": "stream",
     "text": [
      "Hola 🤌🏽 Franco  así que tenes  29 años mido:  1.8  y estas casado? False\n"
     ]
    }
   ],
   "source": [
    "print(\"Hola 🤌🏽\", nombre, \" así que tenes \", edad, \"años\", \"mido: \", altura, \" y estas casado?\", casado)"
   ]
  },
  {
   "cell_type": "code",
   "execution_count": 27,
   "id": "7be726bc",
   "metadata": {},
   "outputs": [],
   "source": [
    "# Palabras reservadas por el lenguaje"
   ]
  },
  {
   "cell_type": "code",
   "execution_count": 29,
   "id": "101c76f9",
   "metadata": {},
   "outputs": [
    {
     "data": {
      "text/plain": [
       "str"
      ]
     },
     "execution_count": 29,
     "metadata": {},
     "output_type": "execute_result"
    }
   ],
   "source": [
    "type(nombre) # me devuelve el tipo de dato asociado (string)"
   ]
  },
  {
   "cell_type": "code",
   "execution_count": 31,
   "id": "5bdad405",
   "metadata": {},
   "outputs": [
    {
     "data": {
      "text/plain": [
       "bool"
      ]
     },
     "execution_count": 31,
     "metadata": {},
     "output_type": "execute_result"
    }
   ],
   "source": [
    "type(casado) # cualquier cosa"
   ]
  },
  {
   "cell_type": "code",
   "execution_count": 33,
   "id": "3a25bc76",
   "metadata": {},
   "outputs": [],
   "source": [
    "# Escribi este bloque de codigo que funciona de tal forma y resuelver este problema"
   ]
  },
  {
   "cell_type": "code",
   "execution_count": 35,
   "id": "e7bf96de",
   "metadata": {},
   "outputs": [
    {
     "data": {
      "text/plain": [
       "int"
      ]
     },
     "execution_count": 35,
     "metadata": {},
     "output_type": "execute_result"
    }
   ],
   "source": [
    "# Este comando sirve para preguntar el tipo de dato\n",
    "type(edad)"
   ]
  },
  {
   "cell_type": "code",
   "execution_count": null,
   "id": "c942bb98",
   "metadata": {},
   "outputs": [],
   "source": [
    "# snake case, camelCase\n",
    "nombres = input(\"Ingrese su nombre señor/señora: \")"
   ]
  },
  {
   "cell_type": "code",
   "execution_count": null,
   "id": "c3b4e86a",
   "metadata": {},
   "outputs": [],
   "source": [
    "print(nombres) # case sensitive (distingue entre mayusculas y minusculas)"
   ]
  },
  {
   "cell_type": "code",
   "execution_count": null,
   "id": "8d885db6",
   "metadata": {},
   "outputs": [],
   "source": []
  },
  {
   "cell_type": "markdown",
   "id": "9fcd2c99",
   "metadata": {},
   "source": [
    "## Condicionales"
   ]
  },
  {
   "cell_type": "code",
   "execution_count": null,
   "id": "1ef7df9f",
   "metadata": {},
   "outputs": [],
   "source": [
    "NOMBRE_EN_MAYUSCULA = \"CANDE PREGUNTA COSAS\"\n",
    "print(NOMBRE_EN_MAYUSCULA)"
   ]
  }
 ],
 "metadata": {
  "kernelspec": {
   "display_name": "Python 3 (ipykernel)",
   "language": "python",
   "name": "python3"
  },
  "language_info": {
   "codemirror_mode": {
    "name": "ipython",
    "version": 3
   },
   "file_extension": ".py",
   "mimetype": "text/x-python",
   "name": "python",
   "nbconvert_exporter": "python",
   "pygments_lexer": "ipython3",
   "version": "3.10.11"
  }
 },
 "nbformat": 4,
 "nbformat_minor": 5
}
