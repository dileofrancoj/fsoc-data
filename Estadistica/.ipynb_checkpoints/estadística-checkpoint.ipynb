{
 "cells": [
  {
   "cell_type": "markdown",
   "id": "2304ba41",
   "metadata": {},
   "source": [
    "## Introducción a la estadística\n",
    "\n",
    "- Estadística descriptiva\n",
    "- Estadística inferencial\n",
    "- Tipos de datos\n",
    "- Tipos de variables\n",
    "- Medidas de tendencia central y de posición\n",
    "- Variabilidad"
   ]
  }
 ],
 "metadata": {
  "kernelspec": {
   "display_name": "Python 3 (ipykernel)",
   "language": "python",
   "name": "python3"
  },
  "language_info": {
   "codemirror_mode": {
    "name": "ipython",
    "version": 3
   },
   "file_extension": ".py",
   "mimetype": "text/x-python",
   "name": "python",
   "nbconvert_exporter": "python",
   "pygments_lexer": "ipython3",
   "version": "3.10.11"
  }
 },
 "nbformat": 4,
 "nbformat_minor": 5
}
