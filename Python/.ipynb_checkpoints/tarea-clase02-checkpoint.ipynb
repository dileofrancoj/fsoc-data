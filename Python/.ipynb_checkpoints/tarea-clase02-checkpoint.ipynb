{
 "cells": [
  {
   "cell_type": "code",
   "execution_count": 39,
   "id": "8a9c9755",
   "metadata": {},
   "outputs": [],
   "source": [
    "notas = [4,6,7,5,6,3,2,2,2,6,7]"
   ]
  },
  {
   "cell_type": "code",
   "execution_count": 40,
   "id": "4c4a8351",
   "metadata": {},
   "outputs": [
    {
     "data": {
      "text/plain": [
       "50"
      ]
     },
     "execution_count": 40,
     "metadata": {},
     "output_type": "execute_result"
    }
   ],
   "source": [
    "sum(notas)"
   ]
  },
  {
   "cell_type": "code",
   "execution_count": 22,
   "id": "da7ad99e",
   "metadata": {},
   "outputs": [
    {
     "data": {
      "text/plain": [
       "11"
      ]
     },
     "execution_count": 22,
     "metadata": {},
     "output_type": "execute_result"
    }
   ],
   "source": [
    "cantidad_notas = len(notas)\n",
    "cantidad_notas"
   ]
  },
  {
   "cell_type": "code",
   "execution_count": 17,
   "id": "04e53be8",
   "metadata": {},
   "outputs": [],
   "source": [
    "suma = 0\n",
    "# acumulador\n",
    "for nota in notas:\n",
    "    suma += nota # += al valor previo que tenemos en suma le sumamos el \"nota\""
   ]
  },
  {
   "cell_type": "code",
   "execution_count": 21,
   "id": "3a12bafc",
   "metadata": {},
   "outputs": [
    {
     "name": "stdout",
     "output_type": "stream",
     "text": [
      "50\n"
     ]
    }
   ],
   "source": [
    "print(suma)"
   ]
  },
  {
   "cell_type": "code",
   "execution_count": 25,
   "id": "ba0c81b3",
   "metadata": {},
   "outputs": [
    {
     "name": "stdout",
     "output_type": "stream",
     "text": [
      "El promedio es  4.545454545454546\n"
     ]
    }
   ],
   "source": [
    "print(\"El promedio es \", suma/cantidad_notas)"
   ]
  },
  {
   "cell_type": "code",
   "execution_count": 30,
   "id": "13675cc3",
   "metadata": {},
   "outputs": [],
   "source": [
    "bolsa_frutas = {\n",
    "    \"manzana\":10,\n",
    "    \"sandia\":15,\n",
    "    \"peras\":2\n",
    "}"
   ]
  },
  {
   "cell_type": "code",
   "execution_count": 31,
   "id": "efca0271",
   "metadata": {},
   "outputs": [
    {
     "data": {
      "text/plain": [
       "int"
      ]
     },
     "execution_count": 31,
     "metadata": {},
     "output_type": "execute_result"
    }
   ],
   "source": [
    "type(5)"
   ]
  },
  {
   "cell_type": "code",
   "execution_count": 37,
   "id": "328a1bbf",
   "metadata": {},
   "outputs": [],
   "source": [
    "frutas = bolsa_frutas.values() # vector con las cantidad de las frutas\n",
    "suma_frutas = 0\n",
    "for fruta in frutas:\n",
    "    suma_frutas += fruta\n",
    "    "
   ]
  },
  {
   "cell_type": "code",
   "execution_count": 38,
   "id": "1fb19c53",
   "metadata": {},
   "outputs": [
    {
     "data": {
      "text/plain": [
       "27"
      ]
     },
     "execution_count": 38,
     "metadata": {},
     "output_type": "execute_result"
    }
   ],
   "source": [
    "suma_frutas"
   ]
  },
  {
   "cell_type": "markdown",
   "id": "5fe5ee27",
   "metadata": {},
   "source": [
    "## Funciones"
   ]
  },
  {
   "cell_type": "markdown",
   "id": "2287055e",
   "metadata": {},
   "source": [
    "Una función es un **bloque de codigo** que se ejecuta cuando es llamado dentro del programa. "
   ]
  },
  {
   "cell_type": "code",
   "execution_count": 41,
   "id": "c9d5fdd9",
   "metadata": {},
   "outputs": [],
   "source": [
    "def saludar():\n",
    "    print(\"Holis! 🚀\")"
   ]
  },
  {
   "cell_type": "code",
   "execution_count": 50,
   "id": "3d8626d6",
   "metadata": {},
   "outputs": [
    {
     "name": "stdout",
     "output_type": "stream",
     "text": [
      "Holis! 🚀\n"
     ]
    }
   ],
   "source": [
    "saludar()"
   ]
  },
  {
   "cell_type": "code",
   "execution_count": 54,
   "id": "b7a14144",
   "metadata": {},
   "outputs": [],
   "source": [
    "def saludarPorNombre(nombre): # parámetros\n",
    "    print(\"Hola!\", nombre)"
   ]
  },
  {
   "cell_type": "code",
   "execution_count": 56,
   "id": "ad7b8503",
   "metadata": {},
   "outputs": [
    {
     "name": "stdout",
     "output_type": "stream",
     "text": [
      "Hola! Tomas\n"
     ]
    }
   ],
   "source": [
    "saludarPorNombre(\"Tomas\")"
   ]
  },
  {
   "cell_type": "code",
   "execution_count": 58,
   "id": "e0747335",
   "metadata": {},
   "outputs": [
    {
     "name": "stdout",
     "output_type": "stream",
     "text": [
      "Hola! Lucia\n"
     ]
    }
   ],
   "source": [
    "saludarPorNombre(\"Lucia\")"
   ]
  },
  {
   "cell_type": "code",
   "execution_count": 60,
   "id": "ec3968b3",
   "metadata": {},
   "outputs": [
    {
     "name": "stdout",
     "output_type": "stream",
     "text": [
      "Hola! 54115\n"
     ]
    }
   ],
   "source": [
    "saludarPorNombre(\"54115\")"
   ]
  },
  {
   "cell_type": "code",
   "execution_count": null,
   "id": "120299ff",
   "metadata": {},
   "outputs": [],
   "source": []
  },
  {
   "cell_type": "code",
   "execution_count": null,
   "id": "1b22db7d",
   "metadata": {},
   "outputs": [],
   "source": []
  },
  {
   "cell_type": "code",
   "execution_count": 61,
   "id": "d62c69e4",
   "metadata": {},
   "outputs": [],
   "source": [
    "notas = [4,5,6]\n",
    "def promedio(notas): \n",
    "    suma = 0\n",
    "    cantidad_notas = len(notas) # cantidad de notas del vector notas\n",
    "    # calcula la suma de todas las notas del vector\n",
    "    # para cada nota en todas las notas\n",
    "    for nota in notas:\n",
    "        suma += nota # acumulador\n",
    "    print(\"El promedio es: \", suma/cantidad_notas)"
   ]
  },
  {
   "cell_type": "code",
   "execution_count": null,
   "id": "63204d49",
   "metadata": {},
   "outputs": [],
   "source": [
    "promedio()"
   ]
  }
 ],
 "metadata": {
  "kernelspec": {
   "display_name": "Python 3 (ipykernel)",
   "language": "python",
   "name": "python3"
  },
  "language_info": {
   "codemirror_mode": {
    "name": "ipython",
    "version": 3
   },
   "file_extension": ".py",
   "mimetype": "text/x-python",
   "name": "python",
   "nbconvert_exporter": "python",
   "pygments_lexer": "ipython3",
   "version": "3.10.11"
  }
 },
 "nbformat": 4,
 "nbformat_minor": 5
}
