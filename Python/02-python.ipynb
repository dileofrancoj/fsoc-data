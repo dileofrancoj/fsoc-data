{
 "cells": [
  {
   "cell_type": "markdown",
   "id": "65a3fcf9",
   "metadata": {},
   "source": [
    "# Clase 02\n",
    "\n",
    "- Vectores, Matrices\n",
    "- Ciclos\n",
    "- Diccionarios\n",
    "- Librerias\n"
   ]
  },
  {
   "cell_type": "markdown",
   "id": "9e13cc3b",
   "metadata": {},
   "source": [
    "## Arrays / Vectores / Listas\n",
    "\n",
    "- Una variable que puede tener varios valores al mismo tiempo\n",
    "- Conjunto de datos\n",
    "\n",
    "\n",
    "DataFrame : Matriz\n",
    "\n",
    "nombres = [\"franco\",\"ivan\", \"Sofia\",\"Cande\",\"Mauro\",\"Maru\"]"
   ]
  },
  {
   "cell_type": "code",
   "execution_count": 1,
   "id": "be981e3b",
   "metadata": {},
   "outputs": [],
   "source": [
    "nombre_1 = \"franco\"\n",
    "nombre_2 = \"ivan\"\n",
    "nombre_5 = \"Mauro\""
   ]
  },
  {
   "cell_type": "code",
   "execution_count": 17,
   "id": "64bf0812",
   "metadata": {},
   "outputs": [],
   "source": [
    "estudiantes_de_cs = [\"franco\",\"ivan\",\"Sofia\",\"Cande\",'Mauro',\"Maru\",\"Uri\",\"Hugo\"] # lista de elementos"
   ]
  },
  {
   "cell_type": "code",
   "execution_count": 12,
   "id": "dc2c80bc",
   "metadata": {},
   "outputs": [
    {
     "data": {
      "text/plain": [
       "list"
      ]
     },
     "execution_count": 12,
     "metadata": {},
     "output_type": "execute_result"
    }
   ],
   "source": [
    "type(estudiantes_de_cs) # built int data type"
   ]
  },
  {
   "cell_type": "code",
   "execution_count": 5,
   "id": "cb020ec1",
   "metadata": {},
   "outputs": [],
   "source": [
    "franco = [\"franco\",29,[\"Amazonas\",\"Perla\"],\"Pedidos YA\", False] # lista [] vs tupla ()"
   ]
  },
  {
   "cell_type": "code",
   "execution_count": 6,
   "id": "461ea6b8",
   "metadata": {},
   "outputs": [],
   "source": [
    "dicaprio = [\"Hombre\",\"Adulto\",\"3er clase\", False] # Un caso particular es una fila de un conjunto de registros\n",
    "rose = [\"Mujer\",\"Adulto\",\"1er clase\", True]"
   ]
  },
  {
   "cell_type": "code",
   "execution_count": 18,
   "id": "3e49ac15",
   "metadata": {},
   "outputs": [
    {
     "name": "stdout",
     "output_type": "stream",
     "text": [
      "El tamaño del vector / array / lista 8\n"
     ]
    }
   ],
   "source": [
    "print(\"El tamaño del vector / array / lista\", len(estudiantes_de_cs))"
   ]
  },
  {
   "cell_type": "markdown",
   "id": "da8d43d3",
   "metadata": {},
   "source": [
    "# Imprimir elementos\n",
    "\n",
    "Es una variable que almacena un conjunto de datos y es una lista indexada de elementos. **El primer elemento tiene indice \"0\"**"
   ]
  },
  {
   "cell_type": "code",
   "execution_count": 29,
   "id": "4b504758",
   "metadata": {},
   "outputs": [
    {
     "name": "stdout",
     "output_type": "stream",
     "text": [
      "['franco', 'ivan', 'Sofia', 'Cande', 'Mauro', 'Maru', 'Uri', 'Hugo']\n",
      "------------\n",
      "El primer elemento es:  franco\n",
      "El cuarto estudiante de fsoc es:  Mauro\n",
      "El último elemento de la lista Hugo\n"
     ]
    }
   ],
   "source": [
    "print(estudiantes_de_cs)\n",
    "print(\"------------\")\n",
    "print(\"El primer elemento es: \",estudiantes_de_cs[0])\n",
    "print(\"El cuarto estudiante de fsoc es: \", estudiantes_de_cs[4])\n",
    "pos_ultimo_estudiante = len(estudiantes_de_cs) - 1 # len(estudiantes_cs) 8 - 1 = 7\n",
    "print(\"El último elemento de la lista\", estudiantes_de_cs[-1]) \n",
    "# El ultimo de la lista puedo acceder por: len(vector) - 1 o bien poniendo [-1] como indice"
   ]
  },
  {
   "cell_type": "code",
   "execution_count": 31,
   "id": "3749dcaa",
   "metadata": {},
   "outputs": [
    {
     "data": {
      "text/plain": [
       "['franco', 'ivan', 'Sofia', 'Cande', 'Mauro', 'Maru', 'Uri', 'Hugo']"
      ]
     },
     "execution_count": 31,
     "metadata": {},
     "output_type": "execute_result"
    }
   ],
   "source": [
    "estudiantes_de_cs"
   ]
  },
  {
   "cell_type": "code",
   "execution_count": 32,
   "id": "b4c080e8",
   "metadata": {},
   "outputs": [],
   "source": [
    "hobbies_de_fsoc = [\"programar y entrenar\",\"cocinar torta galesa de crema\", \"Entrenar gym 🏋🏻‍♂️\",\"Ver series (GOT)\",\"Hacer pizzas 🍕\",\"Violin\",'Tomar mate sin parar',\"Andar en Bici\"]"
   ]
  },
  {
   "cell_type": "code",
   "execution_count": 35,
   "id": "fac2cc03",
   "metadata": {},
   "outputs": [
    {
     "name": "stdout",
     "output_type": "stream",
     "text": [
      "Uri tiene el maravilloso hobbie de:  Tomar mate sin parar\n",
      "Hugo  tiene el maravilloso hobbie de:  Andar en Bici\n"
     ]
    }
   ],
   "source": [
    "# [-1] lo que me va a indicar es el último elemento de una lista\n",
    "print(estudiantes_de_cs[-2], \"tiene el maravilloso hobbie de: \", hobbies_de_fsoc[-2])\n",
    "print(estudiantes_de_cs[-1], \" tiene el maravilloso hobbie de: \", hobbies_de_fsoc[-1])"
   ]
  },
  {
   "cell_type": "code",
   "execution_count": 37,
   "id": "eb2f88ba",
   "metadata": {},
   "outputs": [
    {
     "name": "stdout",
     "output_type": "stream",
     "text": [
      "['Entrenar gym 🏋🏻\\u200d♂️', 'Ver series (GOT)', 'Hacer pizzas 🍕']\n"
     ]
    }
   ],
   "source": [
    "print(hobbies_de_fsoc[2:5]) # esto imprime del 3er al quinto elemento"
   ]
  },
  {
   "cell_type": "code",
   "execution_count": 38,
   "id": "09308c48",
   "metadata": {},
   "outputs": [],
   "source": [
    "# Hay notacion para imprimir elementos de un vector\n",
    "# lista[s:s:s] # start:stop:step"
   ]
  },
  {
   "cell_type": "code",
   "execution_count": 51,
   "id": "039feb84",
   "metadata": {},
   "outputs": [
    {
     "name": "stdout",
     "output_type": "stream",
     "text": [
      "['franco', 'ivan', 'Sofia', 'Cande', 'Mauro', 'Maru', 'Uri', 'Hugo']\n",
      "['franco', 'Sofia', 'Mauro', 'Uri']\n",
      "Desde donde comienza hasta el 4to ['franco', 'ivan', 'Sofia', 'Cande']\n"
     ]
    }
   ],
   "source": [
    "print(estudiantes_de_cs[::1]) # imprime todo el vector\n",
    "# imprimir los pares\n",
    "print(estudiantes_de_cs[::2])\n",
    "print(\"Desde donde comienza hasta el 4to\", estudiantes_de_cs[:4]) # valores por defector 0 (arranca)"
   ]
  },
  {
   "cell_type": "code",
   "execution_count": 53,
   "id": "e82ae0c1",
   "metadata": {},
   "outputs": [
    {
     "name": "stdout",
     "output_type": "stream",
     "text": [
      "['programar y entrenar', 'cocinar torta galesa de crema', 'Entrenar gym 🏋🏻\\u200d♂️', 'Ver series (GOT)', 'Hacer pizzas 🍕', 'Violin', 'Tomar mate sin parar', 'Andar en Bici']\n"
     ]
    }
   ],
   "source": [
    "print(hobbies_de_fsoc[::]) # :: valores por defecto (arranca en 0, termina en el final y va 1 paso a la vez)"
   ]
  },
  {
   "cell_type": "code",
   "execution_count": 56,
   "id": "68a4ee32",
   "metadata": {},
   "outputs": [],
   "source": [
    "frutas_favoritas_fsoc = [\"banana\",\"frutilla\",\"fresa\",\"uvas\",\"manzana\",\"fruto del dragon\",\"kiwi\"]"
   ]
  },
  {
   "cell_type": "code",
   "execution_count": 57,
   "id": "e4ce9c4d",
   "metadata": {},
   "outputs": [
    {
     "name": "stdout",
     "output_type": "stream",
     "text": [
      "intruso, vos no estudias sociales\n"
     ]
    }
   ],
   "source": [
    "if \"franco\" in estudiantes_de_cs:\n",
    "    print(\"intruso, vos no estudias sociales\")"
   ]
  },
  {
   "cell_type": "code",
   "execution_count": 60,
   "id": "c8da9302",
   "metadata": {},
   "outputs": [
    {
     "name": "stdout",
     "output_type": "stream",
     "text": [
      "Como que no esta esa fruta!!!!\n"
     ]
    }
   ],
   "source": [
    "if \"granada\" in frutas_favoritas_fsoc: # comprueba si un elemento existe en un vector\n",
    "    print(\"Es un curso chevere\")\n",
    "else:\n",
    "    print(\"Como que no esta esa fruta!!!!\")"
   ]
  },
  {
   "cell_type": "code",
   "execution_count": 61,
   "id": "e5b3d5af",
   "metadata": {},
   "outputs": [],
   "source": [
    "# Gonzalo Manzano"
   ]
  },
  {
   "cell_type": "code",
   "execution_count": 63,
   "id": "0c39f1bc",
   "metadata": {},
   "outputs": [
    {
     "name": "stdout",
     "output_type": "stream",
     "text": [
      "['Gonzalo', 'ivan', 'Sofia', 'Cande', 'Mauro', 'Maru', 'Uri', 'Hugo']\n"
     ]
    }
   ],
   "source": [
    "estudiantes_de_cs[0] = \"Gonzalo\" # los vectores son mutables / modificables\n",
    "print(estudiantes_de_cs)\n",
    "hobbies_de_fsoc[0] = \"Andar en moto 🛵\""
   ]
  },
  {
   "cell_type": "code",
   "execution_count": 67,
   "id": "d36930f7",
   "metadata": {},
   "outputs": [
    {
     "name": "stdout",
     "output_type": "stream",
     "text": [
      "a gonza (anarquista) le gusta  Andar en moto 🛵\n"
     ]
    }
   ],
   "source": [
    "print(\"a gonza (anarquista) le gusta \", hobbies_de_fsoc[0])"
   ]
  },
  {
   "cell_type": "code",
   "execution_count": 68,
   "id": "8ff9f9f6",
   "metadata": {},
   "outputs": [
    {
     "data": {
      "text/plain": [
       "list"
      ]
     },
     "execution_count": 68,
     "metadata": {},
     "output_type": "execute_result"
    }
   ],
   "source": [
    "type(estudiantes_de_cs)\n",
    "# las listas tienen asociadas funciones propias"
   ]
  },
  {
   "cell_type": "code",
   "execution_count": 70,
   "id": "dc487620",
   "metadata": {},
   "outputs": [],
   "source": [
    "estudiantes_de_cs.append(\"Franco\") # agrega al final de la lista \"estudiantes_de_cs\" el valor que le pasamos entre ()"
   ]
  },
  {
   "cell_type": "code",
   "execution_count": 71,
   "id": "9d21c5f7",
   "metadata": {},
   "outputs": [
    {
     "data": {
      "text/plain": [
       "['Gonzalo', 'ivan', 'Sofia', 'Cande', 'Mauro', 'Maru', 'Uri', 'Hugo', 'Franco']"
      ]
     },
     "execution_count": 71,
     "metadata": {},
     "output_type": "execute_result"
    }
   ],
   "source": [
    "estudiantes_de_cs"
   ]
  },
  {
   "cell_type": "code",
   "execution_count": 74,
   "id": "66d7e135",
   "metadata": {},
   "outputs": [
    {
     "ename": "TypeError",
     "evalue": "insert expected 2 arguments, got 1",
     "output_type": "error",
     "traceback": [
      "\u001b[0;31m---------------------------------------------------------------------------\u001b[0m",
      "\u001b[0;31mTypeError\u001b[0m                                 Traceback (most recent call last)",
      "Cell \u001b[0;32mIn[74], line 1\u001b[0m\n\u001b[0;32m----> 1\u001b[0m \u001b[43mestudiantes_de_cs\u001b[49m\u001b[38;5;241;43m.\u001b[39;49m\u001b[43minsert\u001b[49m\u001b[43m(\u001b[49m\u001b[38;5;124;43m\"\u001b[39;49m\u001b[38;5;124;43mDelfi\u001b[39;49m\u001b[38;5;124;43m\"\u001b[39;49m\u001b[43m)\u001b[49m \u001b[38;5;66;03m# insert\u001b[39;00m\n",
      "\u001b[0;31mTypeError\u001b[0m: insert expected 2 arguments, got 1"
     ]
    }
   ],
   "source": [
    "# estudiantes_de_cs.insert(10,\"Delfi\") # insert"
   ]
  },
  {
   "cell_type": "code",
   "execution_count": 75,
   "id": "5a5fd7ca",
   "metadata": {},
   "outputs": [
    {
     "data": {
      "text/plain": [
       "['Gonzalo',\n",
       " 'ivan',\n",
       " 'Sofia',\n",
       " 'Cande',\n",
       " 'Mauro',\n",
       " 'Maru',\n",
       " 'Uri',\n",
       " 'Hugo',\n",
       " 'Franco',\n",
       " 'Delfi']"
      ]
     },
     "execution_count": 75,
     "metadata": {},
     "output_type": "execute_result"
    }
   ],
   "source": [
    "estudiantes_de_cs"
   ]
  },
  {
   "cell_type": "code",
   "execution_count": 78,
   "id": "b16e1b13",
   "metadata": {},
   "outputs": [
    {
     "name": "stdout",
     "output_type": "stream",
     "text": [
      "Cantidad de elementos de estudiantes_de_cs 10\n",
      "Hobbies estudiantes_de_cs 8\n"
     ]
    }
   ],
   "source": [
    "print(\"Cantidad de elementos de estudiantes_de_cs\", len(estudiantes_de_cs))\n",
    "print(\"Hobbies estudiantes_de_cs\", len(hobbies_de_fsoc)) # "
   ]
  },
  {
   "cell_type": "code",
   "execution_count": 79,
   "id": "1c5ec392",
   "metadata": {},
   "outputs": [
    {
     "data": {
      "text/plain": [
       "['Andar en moto 🛵',\n",
       " 'cocinar torta galesa de crema',\n",
       " 'Entrenar gym 🏋🏻\\u200d♂️',\n",
       " 'Ver series (GOT)',\n",
       " 'Hacer pizzas 🍕',\n",
       " 'Violin',\n",
       " 'Tomar mate sin parar',\n",
       " 'Andar en Bici']"
      ]
     },
     "execution_count": 79,
     "metadata": {},
     "output_type": "execute_result"
    }
   ],
   "source": [
    "hobbies_de_fsoc"
   ]
  },
  {
   "cell_type": "code",
   "execution_count": 82,
   "id": "3dd16b82",
   "metadata": {},
   "outputs": [
    {
     "ename": "IndexError",
     "evalue": "list index out of range",
     "output_type": "error",
     "traceback": [
      "\u001b[0;31m---------------------------------------------------------------------------\u001b[0m",
      "\u001b[0;31mIndexError\u001b[0m                                Traceback (most recent call last)",
      "Cell \u001b[0;32mIn[82], line 1\u001b[0m\n\u001b[0;32m----> 1\u001b[0m \u001b[43mhobbies_de_fsoc\u001b[49m\u001b[43m[\u001b[49m\u001b[38;5;241;43m9\u001b[39;49m\u001b[43m]\u001b[49m \u001b[38;5;66;03m# list index out of range\u001b[39;00m\n\u001b[1;32m      2\u001b[0m \u001b[38;5;28mprint\u001b[39m(\u001b[38;5;124m\"\u001b[39m\u001b[38;5;124m¿¿¿¿Que pasa acá????\u001b[39m\u001b[38;5;124m\"\u001b[39m)\n",
      "\u001b[0;31mIndexError\u001b[0m: list index out of range"
     ]
    }
   ],
   "source": [
    "# no se ejecuta la linea de abajo si hay un error en tiempo de ejcución\n",
    "hobbies_de_fsoc[9] # list index out of range\n",
    "print(\"¿¿¿¿Que pasa acá????\")"
   ]
  },
  {
   "cell_type": "code",
   "execution_count": 84,
   "id": "3e14c88f",
   "metadata": {},
   "outputs": [],
   "source": [
    "# Manejar el error / los errores en tiempo de ejecución"
   ]
  },
  {
   "cell_type": "code",
   "execution_count": 87,
   "id": "86713b99",
   "metadata": {},
   "outputs": [
    {
     "name": "stdout",
     "output_type": "stream",
     "text": [
      "No existe ese elemento dentro del array\n",
      "Seguimos con el programa ⏰\n"
     ]
    }
   ],
   "source": [
    "# try: es un bloque que me va a permitir manejar / controlar errores\n",
    "try:\n",
    "    hobbies_de_fsoc[100]\n",
    "except:\n",
    "    print(\"No existe ese elemento dentro del array\")\n",
    "print(\"Seguimos con el programa ⏰\")"
   ]
  },
  {
   "cell_type": "code",
   "execution_count": 88,
   "id": "967132ac",
   "metadata": {},
   "outputs": [
    {
     "data": {
      "text/plain": [
       "'Franco'"
      ]
     },
     "execution_count": 88,
     "metadata": {},
     "output_type": "execute_result"
    }
   ],
   "source": [
    "# .append -> agrega al ultimo elemento de la lista\n",
    "# .pop() elimina el ultimo elemento de la lista\n",
    "estudiantes_de_cs.pop()\n",
    "estudiantes_de_cs.pop()"
   ]
  },
  {
   "cell_type": "code",
   "execution_count": 90,
   "id": "08c4cbf0",
   "metadata": {},
   "outputs": [
    {
     "data": {
      "text/plain": [
       "['Gonzalo', 'ivan', 'Sofia', 'Cande', 'Mauro', 'Maru', 'Uri', 'Hugo']"
      ]
     },
     "execution_count": 90,
     "metadata": {},
     "output_type": "execute_result"
    }
   ],
   "source": [
    "estudiantes_de_cs"
   ]
  },
  {
   "cell_type": "code",
   "execution_count": 91,
   "id": "d1251e6e",
   "metadata": {},
   "outputs": [],
   "source": [
    "# Funciones ()"
   ]
  },
  {
   "cell_type": "code",
   "execution_count": 92,
   "id": "b1b7391f",
   "metadata": {},
   "outputs": [],
   "source": [
    "# f(x)"
   ]
  },
  {
   "cell_type": "markdown",
   "id": "7fe72df5",
   "metadata": {},
   "source": [
    "## Iteraciones\n",
    "\n",
    "- Repeticion controlada de un bloque de código a través de un bloque\n",
    "- Loop\n",
    "\n",
    "Recorrer un conjunto de elementos\n",
    "- for -> la mas usada para nuestro caso\n",
    "- while\n",
    "- do while"
   ]
  },
  {
   "cell_type": "code",
   "execution_count": 113,
   "id": "a6dcc8fe",
   "metadata": {},
   "outputs": [
    {
     "data": {
      "text/plain": [
       "['banana', 'frutilla', 'fresa', 'uvas', 'manzana', 'fruto del dragon', 'kiwi']"
      ]
     },
     "execution_count": 113,
     "metadata": {},
     "output_type": "execute_result"
    }
   ],
   "source": [
    "frutas_favoritas_fsoc"
   ]
  },
  {
   "cell_type": "code",
   "execution_count": 115,
   "id": "074a447f",
   "metadata": {},
   "outputs": [
    {
     "name": "stdout",
     "output_type": "stream",
     "text": [
      "Me encanta la  banana\n",
      "Me encanta la  frutilla\n",
      "Me encanta la  fresa\n",
      "Me encanta la  uvas\n",
      "Me encanta la  manzana\n",
      "Me encanta la  fruto del dragon\n",
      "Me encanta la  kiwi\n"
     ]
    }
   ],
   "source": [
    "nombre_54155 = \"sofia\"\n",
    "for fruta in frutas_favoritas_fsoc: # for variable in una_lista\n",
    "    print(\"Me encanta la \", fruta)"
   ]
  },
  {
   "cell_type": "code",
   "execution_count": 123,
   "id": "6ec3317c",
   "metadata": {},
   "outputs": [
    {
     "data": {
      "text/plain": [
       "['Gonzalo', 'ivan', 'Sofia', 'Cande', 'Mauro', 'Maru', 'Uri', 'Hugo']"
      ]
     },
     "execution_count": 123,
     "metadata": {},
     "output_type": "execute_result"
    }
   ],
   "source": [
    "estudiantes_de_cs"
   ]
  },
  {
   "cell_type": "code",
   "execution_count": 124,
   "id": "e035f135",
   "metadata": {},
   "outputs": [
    {
     "name": "stdout",
     "output_type": "stream",
     "text": [
      "Hola gonza! Un gusto tenerte por acá\n",
      "Hola 👋🏼 ivan\n",
      "hola estudiante 54155\n",
      "Hola 👋🏼 Cande\n",
      "Hola 👋🏼 Mauro\n",
      "Hola 👋🏼 Maru\n",
      "Hola 👋🏼 Uri\n",
      "Hola 👋🏼 Hugo\n"
     ]
    }
   ],
   "source": [
    "for x in estudiantes_de_cs:\n",
    "    if x == \"Gonzalo\":\n",
    "        print(\"Hola gonza! Un gusto tenerte por acá\")\n",
    "    elif x == \"Sofia\":\n",
    "        print(\"hola estudiante 54155\")\n",
    "    elif x == \"Julieta\":\n",
    "        print(\"hola juli! Igual, nunca me voy a ejecutar porque no estás acá :(\")\n",
    "    else:\n",
    "        print(\"Hola 👋🏼\", x)"
   ]
  },
  {
   "cell_type": "code",
   "execution_count": 125,
   "id": "87c6f2a9",
   "metadata": {},
   "outputs": [],
   "source": [
    "if \"edgardo\" in estudiantes_de_cs:\n",
    "    print(\"hola edgar!\")"
   ]
  },
  {
   "cell_type": "code",
   "execution_count": 131,
   "id": "c500eb3e",
   "metadata": {},
   "outputs": [
    {
     "name": "stdout",
     "output_type": "stream",
     "text": [
      "No existe esa posicion del vector\n"
     ]
    }
   ],
   "source": [
    "try:\n",
    "    estudiantes_de_cs[100]\n",
    "except:\n",
    "    print(\"No existe esa posicion del vector\")"
   ]
  },
  {
   "cell_type": "code",
   "execution_count": 133,
   "id": "c83f44f4",
   "metadata": {},
   "outputs": [
    {
     "data": {
      "text/plain": [
       "8"
      ]
     },
     "execution_count": 133,
     "metadata": {},
     "output_type": "execute_result"
    }
   ],
   "source": [
    "len(hobbies_de_fsoc)"
   ]
  },
  {
   "cell_type": "markdown",
   "id": "c79889a8",
   "metadata": {},
   "source": [
    "## Diccionarios\n",
    "\n",
    "Los arrays es una estructura unidimensional\n",
    "\n",
    "Los diccionarios son un tipo especial de datos en python que sirven para almacenar información compleja\n",
    "\n",
    "nombre = {}"
   ]
  },
  {
   "cell_type": "code",
   "execution_count": 162,
   "id": "fee3c43f",
   "metadata": {},
   "outputs": [],
   "source": [
    "franco = {\n",
    "    \"nombre\" : \"Franco Di Leo\",\n",
    "    \"edad\": 29,\n",
    "    \"profesion\": \"Desarrollador\",\n",
    "    \"mascotas\": [\n",
    "        {\n",
    "            \"tipo\": \"tortuga\",\n",
    "            \"nombre\":\"manolo\",\n",
    "            \"edad\":8\n",
    "        },\n",
    "        {\n",
    "            \"tipo\":\"perro\",\n",
    "            \"nombre\":\"amazonas\",\n",
    "            \"edad\":4\n",
    "        }\n",
    "    ],\n",
    "    \"hobbies\": [\"Entrenar\",\"Codear\",\"Tomar mate\",\"grabar videitos\"]\n",
    "}"
   ]
  },
  {
   "cell_type": "code",
   "execution_count": 165,
   "id": "de8ab558",
   "metadata": {},
   "outputs": [
    {
     "name": "stdout",
     "output_type": "stream",
     "text": [
      "grabar videitos\n"
     ]
    }
   ],
   "source": [
    "print(franco['hobbies'][-1])"
   ]
  },
  {
   "cell_type": "code",
   "execution_count": 173,
   "id": "44183aca",
   "metadata": {},
   "outputs": [
    {
     "name": "stdout",
     "output_type": "stream",
     "text": [
      "la edad de amazonas es de  4 años\n"
     ]
    }
   ],
   "source": [
    "print(\"la edad de\", franco['mascotas'][-1]['nombre'],  \"es de \",franco['mascotas'][-1]['edad'], \"años\")"
   ]
  },
  {
   "cell_type": "code",
   "execution_count": 142,
   "id": "b3026caa",
   "metadata": {},
   "outputs": [
    {
     "name": "stdout",
     "output_type": "stream",
     "text": [
      "{'nombre': 'Franco Di Leo', 'edad': 29, 'profesion': 'Desarrollador', 'mascotas': [{'tipo': 'tortuga', 'nombre': 'manolo', 'edad': 8}, {'tipo': 'perro', 'nombre': 'amazonas', 'edad': 4}], 'hobbies': ['Entrenar', 'Codear', 'Tomar mate', 'grabar videitos']}\n"
     ]
    }
   ],
   "source": [
    "print(franco)"
   ]
  },
  {
   "cell_type": "code",
   "execution_count": 155,
   "id": "38b179a3",
   "metadata": {},
   "outputs": [
    {
     "name": "stdout",
     "output_type": "stream",
     "text": [
      "{'nombre': 'Hugo Gandolfo', 'edad': 27, 'profesion': 'Sociologo / Investigador', 'hobbies': ['Andar en bici', 'andar en moto', 'Comer pizza'], 'mascota': ['delfina', 'ramon']}\n"
     ]
    }
   ],
   "source": [
    "hugo = {\n",
    "    \"nombre\": \"Hugo Gandolfo\",\n",
    "    \"edad\": 27,\n",
    "    \"profesion\":\"Sociologo / Investigador\",\n",
    "    \"hobbies\": [\"Andar en bici\",\"andar en moto\", \"Comer pizza\"],\n",
    "    \"mascota\": [\"delfina\",\"ramon\"]\n",
    "}\n",
    "print(hugo)"
   ]
  },
  {
   "cell_type": "code",
   "execution_count": 153,
   "id": "1ba2ecc4",
   "metadata": {},
   "outputs": [
    {
     "data": {
      "text/plain": [
       "'Hugo Gandolfo'"
      ]
     },
     "execution_count": 153,
     "metadata": {},
     "output_type": "execute_result"
    }
   ],
   "source": [
    "hugo[\"nombre\"]"
   ]
  },
  {
   "cell_type": "code",
   "execution_count": 158,
   "id": "bb67a129",
   "metadata": {},
   "outputs": [
    {
     "data": {
      "text/plain": [
       "27"
      ]
     },
     "execution_count": 158,
     "metadata": {},
     "output_type": "execute_result"
    }
   ],
   "source": [
    "hugo['edad']"
   ]
  },
  {
   "cell_type": "code",
   "execution_count": 160,
   "id": "43029879",
   "metadata": {},
   "outputs": [
    {
     "data": {
      "text/plain": [
       "['Andar en bici', 'andar en moto', 'Comer pizza']"
      ]
     },
     "execution_count": 160,
     "metadata": {},
     "output_type": "execute_result"
    }
   ],
   "source": [
    "hugo['hobbies']"
   ]
  },
  {
   "cell_type": "code",
   "execution_count": 161,
   "id": "4e8d5548",
   "metadata": {},
   "outputs": [
    {
     "name": "stdout",
     "output_type": "stream",
     "text": [
      "Hugo Gandolfo Tiene como hobby:  Andar en bici\n",
      "Hugo Gandolfo Tiene como hobby:  andar en moto\n",
      "Hugo Gandolfo Tiene como hobby:  Comer pizza\n"
     ]
    }
   ],
   "source": [
    "for hobby in hugo['hobbies']:\n",
    "    print(hugo['nombre'], \"Tiene como hobby: \", hobby)"
   ]
  }
 ],
 "metadata": {
  "kernelspec": {
   "display_name": "Python 3 (ipykernel)",
   "language": "python",
   "name": "python3"
  },
  "language_info": {
   "codemirror_mode": {
    "name": "ipython",
    "version": 3
   },
   "file_extension": ".py",
   "mimetype": "text/x-python",
   "name": "python",
   "nbconvert_exporter": "python",
   "pygments_lexer": "ipython3",
   "version": "3.10.11"
  }
 },
 "nbformat": 4,
 "nbformat_minor": 5
}
