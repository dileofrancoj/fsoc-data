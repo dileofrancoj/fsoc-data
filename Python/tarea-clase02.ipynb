{
 "cells": [
  {
   "cell_type": "code",
   "execution_count": 39,
   "id": "1a3fe80b",
   "metadata": {},
   "outputs": [],
   "source": [
    "notas = [4,6,7,5,6,3,2,2,2,6,7]"
   ]
  },
  {
   "cell_type": "code",
   "execution_count": 40,
   "id": "60abf19c",
   "metadata": {},
   "outputs": [
    {
     "data": {
      "text/plain": [
       "50"
      ]
     },
     "execution_count": 40,
     "metadata": {},
     "output_type": "execute_result"
    }
   ],
   "source": [
    "sum(notas)"
   ]
  },
  {
   "cell_type": "code",
   "execution_count": 22,
   "id": "4ff8e13d",
   "metadata": {},
   "outputs": [
    {
     "data": {
      "text/plain": [
       "11"
      ]
     },
     "execution_count": 22,
     "metadata": {},
     "output_type": "execute_result"
    }
   ],
   "source": [
    "cantidad_notas = len(notas)\n",
    "cantidad_notas"
   ]
  },
  {
   "cell_type": "code",
   "execution_count": 17,
   "id": "4236591c",
   "metadata": {},
   "outputs": [],
   "source": [
    "suma = 0\n",
    "# acumulador\n",
    "for nota in notas:\n",
    "    suma += nota # += al valor previo que tenemos en suma le sumamos el \"nota\""
   ]
  },
  {
   "cell_type": "code",
   "execution_count": 21,
   "id": "c25eb775",
   "metadata": {},
   "outputs": [
    {
     "name": "stdout",
     "output_type": "stream",
     "text": [
      "50\n"
     ]
    }
   ],
   "source": [
    "print(suma)"
   ]
  },
  {
   "cell_type": "code",
   "execution_count": 25,
   "id": "d4915ddc",
   "metadata": {},
   "outputs": [
    {
     "name": "stdout",
     "output_type": "stream",
     "text": [
      "El promedio es  4.545454545454546\n"
     ]
    }
   ],
   "source": [
    "print(\"El promedio es \", suma/cantidad_notas)"
   ]
  },
  {
   "cell_type": "code",
   "execution_count": 30,
   "id": "9e94aeed",
   "metadata": {},
   "outputs": [],
   "source": [
    "bolsa_frutas = {\n",
    "    \"manzana\":10,\n",
    "    \"sandia\":15,\n",
    "    \"peras\":2\n",
    "}"
   ]
  },
  {
   "cell_type": "code",
   "execution_count": 31,
   "id": "d7757023",
   "metadata": {},
   "outputs": [
    {
     "data": {
      "text/plain": [
       "int"
      ]
     },
     "execution_count": 31,
     "metadata": {},
     "output_type": "execute_result"
    }
   ],
   "source": [
    "type(5)"
   ]
  },
  {
   "cell_type": "code",
   "execution_count": 37,
   "id": "e72cb12c",
   "metadata": {},
   "outputs": [],
   "source": [
    "frutas = bolsa_frutas.values() # vector con las cantidad de las frutas\n",
    "suma_frutas = 0\n",
    "for fruta in frutas:\n",
    "    suma_frutas += fruta\n",
    "    "
   ]
  },
  {
   "cell_type": "code",
   "execution_count": 38,
   "id": "5f074f12",
   "metadata": {},
   "outputs": [
    {
     "data": {
      "text/plain": [
       "27"
      ]
     },
     "execution_count": 38,
     "metadata": {},
     "output_type": "execute_result"
    }
   ],
   "source": [
    "suma_frutas"
   ]
  },
  {
   "cell_type": "markdown",
   "id": "12a3c06b",
   "metadata": {},
   "source": [
    "## Funciones"
   ]
  },
  {
   "cell_type": "markdown",
   "id": "0470f53b",
   "metadata": {},
   "source": [
    "Una función es un **bloque de codigo** que se ejecuta cuando es llamado dentro del programa. "
   ]
  },
  {
   "cell_type": "code",
   "execution_count": 41,
   "id": "4b81c9f5",
   "metadata": {},
   "outputs": [],
   "source": [
    "def saludar():\n",
    "    print(\"Holis! 🚀\")"
   ]
  },
  {
   "cell_type": "code",
   "execution_count": 50,
   "id": "879c86ad",
   "metadata": {},
   "outputs": [
    {
     "name": "stdout",
     "output_type": "stream",
     "text": [
      "Holis! 🚀\n"
     ]
    }
   ],
   "source": [
    "saludar()"
   ]
  },
  {
   "cell_type": "code",
   "execution_count": 54,
   "id": "1c95a04a",
   "metadata": {},
   "outputs": [],
   "source": [
    "def saludarPorNombre(nombre): # parámetros\n",
    "    print(\"Hola!\", nombre)"
   ]
  },
  {
   "cell_type": "code",
   "execution_count": 56,
   "id": "8ebf8379",
   "metadata": {},
   "outputs": [
    {
     "name": "stdout",
     "output_type": "stream",
     "text": [
      "Hola! Tomas\n"
     ]
    }
   ],
   "source": [
    "saludarPorNombre(\"Tomas\")"
   ]
  },
  {
   "cell_type": "code",
   "execution_count": 58,
   "id": "f3a48b40",
   "metadata": {},
   "outputs": [
    {
     "name": "stdout",
     "output_type": "stream",
     "text": [
      "Hola! Lucia\n"
     ]
    }
   ],
   "source": [
    "saludarPorNombre(\"Lucia\")"
   ]
  },
  {
   "cell_type": "code",
   "execution_count": 60,
   "id": "3c42e3f1",
   "metadata": {},
   "outputs": [
    {
     "name": "stdout",
     "output_type": "stream",
     "text": [
      "Hola! 54115\n"
     ]
    }
   ],
   "source": [
    "saludarPorNombre(\"54115\")"
   ]
  },
  {
   "cell_type": "code",
   "execution_count": 73,
   "id": "2c96b408",
   "metadata": {},
   "outputs": [],
   "source": [
    "def promedio(notas):\n",
    "    suma = 0\n",
    "    cantidad_notas = len(notas) # cantidad de notas del vector notas\n",
    "    # calcula la suma de todas las notas del vector\n",
    "    # para cada nota en todas las notas\n",
    "    for nota in notas:\n",
    "        suma = suma + nota # acumulador\n",
    "    print(\"El promedio es: \", suma/cantidad_notas)"
   ]
  },
  {
   "cell_type": "code",
   "execution_count": 77,
   "id": "0be863d9",
   "metadata": {},
   "outputs": [
    {
     "name": "stdout",
     "output_type": "stream",
     "text": [
      "El promedio es:  6.0\n"
     ]
    }
   ],
   "source": [
    "promedio([4,6,8])"
   ]
  },
  {
   "cell_type": "code",
   "execution_count": 78,
   "id": "3b0b3839",
   "metadata": {},
   "outputs": [
    {
     "name": "stdout",
     "output_type": "stream",
     "text": [
      "El promedio es:  7.333333333333333\n",
      "El promedio de Sofi es:  None\n"
     ]
    }
   ],
   "source": [
    "print(\"El promedio de Sofi es: \",promedio([6,7,9]))"
   ]
  },
  {
   "cell_type": "code",
   "execution_count": 86,
   "id": "ea0cb314",
   "metadata": {},
   "outputs": [
    {
     "name": "stdout",
     "output_type": "stream",
     "text": [
      "El promedio es:  3.0\n"
     ]
    }
   ],
   "source": [
    "promedio([2,4])"
   ]
  },
  {
   "cell_type": "code",
   "execution_count": 89,
   "id": "4eb5c451",
   "metadata": {},
   "outputs": [],
   "source": [
    "def saludarAlumno(nombre,apellido):\n",
    "    print(\"Que alegria tenerte por acá: \", nombre, edad)"
   ]
  },
  {
   "cell_type": "code",
   "execution_count": 88,
   "id": "00f6a47e",
   "metadata": {},
   "outputs": [
    {
     "name": "stdout",
     "output_type": "stream",
     "text": [
      "Que alegria tenerte por acá:  franco di leo\n"
     ]
    }
   ],
   "source": [
    "saludarAlumno(\"franco\",\"di leo\")"
   ]
  },
  {
   "cell_type": "markdown",
   "id": "ae979862",
   "metadata": {},
   "source": [
    "# Librerias\n",
    "\n",
    "Es un conjunto de funciones externas que podemos utilizar para resolver problemas en nuestro código"
   ]
  },
  {
   "cell_type": "code",
   "execution_count": 81,
   "id": "8266fddc",
   "metadata": {},
   "outputs": [],
   "source": [
    "import random"
   ]
  },
  {
   "cell_type": "code",
   "execution_count": 106,
   "id": "5590e18d",
   "metadata": {},
   "outputs": [
    {
     "data": {
      "text/plain": [
       "375"
      ]
     },
     "execution_count": 106,
     "metadata": {},
     "output_type": "execute_result"
    }
   ],
   "source": [
    "random.randint(200,500)"
   ]
  }
 ],
 "metadata": {
  "kernelspec": {
   "display_name": "Python 3 (ipykernel)",
   "language": "python",
   "name": "python3"
  },
  "language_info": {
   "codemirror_mode": {
    "name": "ipython",
    "version": 3
   },
   "file_extension": ".py",
   "mimetype": "text/x-python",
   "name": "python",
   "nbconvert_exporter": "python",
   "pygments_lexer": "ipython3",
   "version": "3.10.11"
  }
 },
 "nbformat": 4,
 "nbformat_minor": 5
}
