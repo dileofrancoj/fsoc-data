{
 "cells": [
  {
   "cell_type": "markdown",
   "id": "7c4c199f",
   "metadata": {},
   "source": [
    "Escribe un programa en Python que solicite al usuario ingresar la calificación numérica de un estudiante (por ejemplo, un número entre 0 y 100) y luego muestre la calificación correspondiente en letras de acuerdo con la siguiente escala:\n",
    "\n",
    "- 90-100: A\n",
    "- 80-89: B\n",
    "- 70-79: C\n",
    "- 60-69: D\n",
    "- Menos de 60: F (F es una calificación reprobatoria)"
   ]
  },
  {
   "cell_type": "code",
   "execution_count": null,
   "id": "0c4bc0cd",
   "metadata": {},
   "outputs": [],
   "source": [
    "calificacion = float(input(\"Ingresa la calificación del estudiante: \"))\n",
    "\n",
    "if calificacion >= 90 and calificacion <= 100:\n",
    "    print(\"Calificación: A\")\n",
    "elif calificacion >= 80 and calificacion < 90:\n",
    "    print(\"Calificación: B\")\n",
    "elif calificacion >= 70 and calificacion < 80:\n",
    "    print(\"Calificación: C\")\n",
    "elif calificacion >= 60 and calificacion < 70:\n",
    "    print(\"Calificación: D\")\n",
    "else:\n",
    "    print(\"Calificación: F (Reprobado)\")"
   ]
  }
 ],
 "metadata": {
  "kernelspec": {
   "display_name": "Python 3 (ipykernel)",
   "language": "python",
   "name": "python3"
  },
  "language_info": {
   "codemirror_mode": {
    "name": "ipython",
    "version": 3
   },
   "file_extension": ".py",
   "mimetype": "text/x-python",
   "name": "python",
   "nbconvert_exporter": "python",
   "pygments_lexer": "ipython3",
   "version": "3.10.11"
  }
 },
 "nbformat": 4,
 "nbformat_minor": 5
}
