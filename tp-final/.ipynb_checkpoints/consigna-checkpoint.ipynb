{
 "cells": [
  {
   "cell_type": "markdown",
   "id": "ececa98a",
   "metadata": {},
   "source": [
    "### Consigna TP final\n",
    "\n",
    "A modo de entrega final del curso, se propone un trabajo práctico integrador con el objetivo del que el/la alumna pueda aplicar los conceptos vistos a lo largo de la capacitación. Estos incluyen:\n",
    "\n",
    "- Conocimiento básico de lenguaje Python\n",
    "- Manejo de gráficos\n",
    "    - Barras, histogramas, densidad, dispersión, caja y violin\n",
    "- Principales estadísticos de tendencia central, de orden, de posición y de dispersión\n",
    "- Limpieza de datos (valores nulos, identificación de valores extremos, etc)\n",
    "- Identificación de los features y de la variable objetivo.\n",
    "- Planteo de hipótesis que nos acerquen a entender el comportamiento de los datos\n",
    "- Identificación de outliers y entender como estos se relacionan con nuestros datos y porque aparecen.\n",
    "- Hacer un análisis de regresión simple o múltiple para estimar una variable objetivo\n",
    "- Conclusiones del comportamiento de los datos\n",
    "\n",
    "Para poder abordar todos estos puntos, los estudiantes deberán elegir un dataset afin a su carrera. En caso de no encontrar ningúno o encontrar muy complejos, recuerden que pueden usar https://www.kaggle.com/datasets\n",
    "\n",
    "### Formato de entrega\n",
    "\n",
    "Dado que esto debe servir a modo de portfolio, la entrega tiene que estar en formato de jupyter notebbok siendo lo más explicativa posible de porque se toman las decisiones de gráficos e interpretación numérica. \n",
    "\n",
    "Debe subirse al perfil de github"
   ]
  }
 ],
 "metadata": {
  "kernelspec": {
   "display_name": "Python 3 (ipykernel)",
   "language": "python",
   "name": "python3"
  },
  "language_info": {
   "codemirror_mode": {
    "name": "ipython",
    "version": 3
   },
   "file_extension": ".py",
   "mimetype": "text/x-python",
   "name": "python",
   "nbconvert_exporter": "python",
   "pygments_lexer": "ipython3",
   "version": "3.10.11"
  }
 },
 "nbformat": 4,
 "nbformat_minor": 5
}
