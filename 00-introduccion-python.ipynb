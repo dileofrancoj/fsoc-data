{
 "cells": [
  {
   "cell_type": "markdown",
   "id": "e6fca8ed",
   "metadata": {},
   "source": [
    "# Recursos\n",
    "\n",
    "Github: https://github.com/dileofrancoj/fsoc-data\n",
    "\n",
    "Colab: https://colab.research.google.com/\n",
    "\n",
    "Canal de Youtube: https://www.youtube.com/@FrancoDiLeo/videos\n",
    "\n",
    "# Clases\n",
    "- 01: Introducción a Python\n",
    "- 02: Python\n",
    "- 03: Librerias de visualización & manejo de datos\n",
    "- 04: Estadística descriptiva\n",
    "- 05: Análisis exploratorio de datos 1\n",
    "- 06: Analisis exploratorio de datos 2\n",
    "- 07: Modelos de regresión lineal simple\n",
    "- 08: Modelos de regresión múltiple\n",
    "\n",
    "# Introducción a Python\n",
    "\n",
    "Lenguaje de programación ampliamente utilizado"
   ]
  },
  {
   "cell_type": "code",
   "execution_count": 2,
   "id": "0030b816",
   "metadata": {},
   "outputs": [
    {
     "name": "stdout",
     "output_type": "stream",
     "text": [
      "Hola mundo de sociales\n"
     ]
    }
   ],
   "source": [
    "print(\"Hola mundo de sociales\")"
   ]
  },
  {
   "cell_type": "code",
   "execution_count": 3,
   "id": "a7fd3584",
   "metadata": {},
   "outputs": [
    {
     "name": "stdout",
     "output_type": "stream",
     "text": [
      "Hola me llamo franco y tengo 29 años\n"
     ]
    }
   ],
   "source": [
    "print(\"Hola me llamo franco y tengo 29 años\")"
   ]
  },
  {
   "cell_type": "code",
   "execution_count": 5,
   "id": "ddfaf823",
   "metadata": {},
   "outputs": [
    {
     "name": "stdout",
     "output_type": "stream",
     "text": [
      "Emiliano se rie porque entiende\n",
      "Fran pregunta muchas pavadas 😎\n"
     ]
    }
   ],
   "source": [
    "print(\"Emiliano se rie porque entiende\")\n",
    "print(\"Fran pregunta muchas pavadas 😎\")"
   ]
  },
  {
   "cell_type": "markdown",
   "id": "c99ee5f4",
   "metadata": {},
   "source": [
    "## Variables y tipos de datos\n",
    "\n",
    "Una variable es un lugar dentro de la memoria que va a ser usado para guardar un valor en concreto\n"
   ]
  },
  {
   "cell_type": "code",
   "execution_count": 9,
   "id": "ae0fa6cb",
   "metadata": {},
   "outputs": [
    {
     "name": "stdout",
     "output_type": "stream",
     "text": [
      "franco\n",
      "Micaela\n"
     ]
    }
   ],
   "source": [
    "nombre = 'franco'\n",
    "print(nombre)\n",
    "nombre = \"Micaela\"\n",
    "print(nombre)"
   ]
  },
  {
   "cell_type": "code",
   "execution_count": 11,
   "id": "a6b6854c",
   "metadata": {},
   "outputs": [
    {
     "name": "stdout",
     "output_type": "stream",
     "text": [
      "Hola! Bienvenida al curso fsoc-data Micaela\n"
     ]
    }
   ],
   "source": [
    "print(\"Hola! Bienvenida al curso fsoc-data\",nombre) # concatenar\n",
    "# overwriting"
   ]
  },
  {
   "cell_type": "code",
   "execution_count": 13,
   "id": "4c9782c2",
   "metadata": {},
   "outputs": [
    {
     "name": "stdout",
     "output_type": "stream",
     "text": [
      "Micaela\n"
     ]
    }
   ],
   "source": [
    "print(nombre)\n",
    "nombre = \"mi tia marta\""
   ]
  },
  {
   "cell_type": "code",
   "execution_count": 15,
   "id": "030b735b",
   "metadata": {},
   "outputs": [
    {
     "name": "stdout",
     "output_type": "stream",
     "text": [
      "mi tia marta\n"
     ]
    }
   ],
   "source": [
    "print(nombre)"
   ]
  },
  {
   "cell_type": "markdown",
   "id": "cf699f6c",
   "metadata": {},
   "source": [
    "## Tipos de datos\n",
    "\n",
    "> No todos los datos son iguales\n",
    "\n",
    "- string (texto)\n",
    "- int (entero) \n",
    "- float (flotante (coma flotante))\n",
    "- booleano (veradero)"
   ]
  },
  {
   "cell_type": "code",
   "execution_count": 24,
   "id": "414f7336",
   "metadata": {},
   "outputs": [],
   "source": [
    "nombre = \"Franco\" # string (cadena de texto)\n",
    "edad = 29 # integer (entero)\n",
    "altura = 1.80 # float (coma flotante (decimal))\n",
    "casado = False # booleano "
   ]
  },
  {
   "cell_type": "code",
   "execution_count": 26,
   "id": "dd2b8feb",
   "metadata": {},
   "outputs": [
    {
     "name": "stdout",
     "output_type": "stream",
     "text": [
      "Hola 🤌🏽 Franco  así que tenes  29 años mido:  1.8  y estas casado? False\n"
     ]
    }
   ],
   "source": [
    "print(\"Hola 🤌🏽\", nombre, \" así que tenes \", edad, \"años\", \"mido: \", altura, \" y estas casado?\", casado)"
   ]
  },
  {
   "cell_type": "code",
   "execution_count": 27,
   "id": "7be726bc",
   "metadata": {},
   "outputs": [],
   "source": [
    "# Palabras reservadas por el lenguaje"
   ]
  },
  {
   "cell_type": "code",
   "execution_count": 29,
   "id": "101c76f9",
   "metadata": {},
   "outputs": [
    {
     "data": {
      "text/plain": [
       "str"
      ]
     },
     "execution_count": 29,
     "metadata": {},
     "output_type": "execute_result"
    }
   ],
   "source": [
    "type(nombre) # me devuelve el tipo de dato asociado (string)"
   ]
  },
  {
   "cell_type": "code",
   "execution_count": 31,
   "id": "5bdad405",
   "metadata": {},
   "outputs": [
    {
     "data": {
      "text/plain": [
       "bool"
      ]
     },
     "execution_count": 31,
     "metadata": {},
     "output_type": "execute_result"
    }
   ],
   "source": [
    "type(casado) # cualquier cosa"
   ]
  },
  {
   "cell_type": "code",
   "execution_count": 33,
   "id": "3a25bc76",
   "metadata": {},
   "outputs": [],
   "source": [
    "# Escribi este bloque de codigo que funciona de tal forma y resuelver este problema"
   ]
  },
  {
   "cell_type": "code",
   "execution_count": 35,
   "id": "e7bf96de",
   "metadata": {},
   "outputs": [
    {
     "data": {
      "text/plain": [
       "int"
      ]
     },
     "execution_count": 35,
     "metadata": {},
     "output_type": "execute_result"
    }
   ],
   "source": [
    "# Este comando sirve para preguntar el tipo de dato\n",
    "type(edad)"
   ]
  },
  {
   "cell_type": "code",
   "execution_count": null,
   "id": "c942bb98",
   "metadata": {},
   "outputs": [],
   "source": [
    "# snake case, camelCase\n",
    "nombres = input(\"Ingrese su nombre señor/señora: \")"
   ]
  },
  {
   "cell_type": "code",
   "execution_count": null,
   "id": "c3b4e86a",
   "metadata": {},
   "outputs": [],
   "source": [
    "print(nombres) # case sensitive (distingue entre mayusculas y minusculas)"
   ]
  },
  {
   "cell_type": "code",
   "execution_count": 6,
   "id": "8d885db6",
   "metadata": {},
   "outputs": [
    {
     "name": "stdout",
     "output_type": "stream",
     "text": [
      "Cande\n"
     ]
    }
   ],
   "source": [
    "# https://chat.openai.com/\n",
    "nombre = \"Cande\"\n",
    "print(nombre)"
   ]
  },
  {
   "cell_type": "markdown",
   "id": "9fcd2c99",
   "metadata": {},
   "source": [
    "## Condicionales\n",
    "\n",
    "Son estructuras que me permitar definir flujos de ejecución"
   ]
  },
  {
   "cell_type": "code",
   "execution_count": 9,
   "id": "880d63d8",
   "metadata": {},
   "outputs": [
    {
     "name": "stdout",
     "output_type": "stream",
     "text": [
      "Ingrese su nombre señor/señora: Cande\n"
     ]
    }
   ],
   "source": [
    "nombre = input(\"Ingrese su nombre señor/señora: \")"
   ]
  },
  {
   "cell_type": "code",
   "execution_count": 10,
   "id": "e5746543",
   "metadata": {},
   "outputs": [
    {
     "name": "stdout",
     "output_type": "stream",
     "text": [
      "Cande\n"
     ]
    }
   ],
   "source": [
    "print(nombre)"
   ]
  },
  {
   "cell_type": "code",
   "execution_count": 17,
   "id": "1ef7df9f",
   "metadata": {},
   "outputs": [],
   "source": [
    "nombre = \"Ari\" # asignamos el valor \"Naty\" a la variable nombre"
   ]
  },
  {
   "cell_type": "code",
   "execution_count": 19,
   "id": "a11162a6",
   "metadata": {},
   "outputs": [
    {
     "name": "stdout",
     "output_type": "stream",
     "text": [
      "Hola chic@s\n"
     ]
    }
   ],
   "source": [
    "if nombre == \"Franco\": # el doble igual COMPARA\n",
    "    # indentacion\n",
    "    print(\"El profe habla sin parar\")\n",
    "\n",
    "print(\"Hola chic@s\")\n"
   ]
  },
  {
   "cell_type": "code",
   "execution_count": null,
   "id": "1ade8817",
   "metadata": {},
   "outputs": [],
   "source": [
    "# En caso de que el dataset este vacio (que no haya datos)\n",
    "# Si hay datos (if) en mi dataset calcula la media y si no hay datos no hagas nada"
   ]
  },
  {
   "cell_type": "code",
   "execution_count": 40,
   "id": "9e0e2c34",
   "metadata": {},
   "outputs": [
    {
     "name": "stdout",
     "output_type": "stream",
     "text": [
      "Ingresa la temperatura actual en grados celsius: 50\n"
     ]
    }
   ],
   "source": [
    "temperatura = input(\"Ingresa la temperatura actual en grados celsius: \")"
   ]
  },
  {
   "cell_type": "code",
   "execution_count": 24,
   "id": "7ca8f70d",
   "metadata": {},
   "outputs": [
    {
     "name": "stdout",
     "output_type": "stream",
     "text": [
      "14\n"
     ]
    }
   ],
   "source": [
    "print(temperatura)"
   ]
  },
  {
   "cell_type": "code",
   "execution_count": 35,
   "id": "30b5b7ca",
   "metadata": {},
   "outputs": [
    {
     "data": {
      "text/plain": [
       "str"
      ]
     },
     "execution_count": 35,
     "metadata": {},
     "output_type": "execute_result"
    }
   ],
   "source": [
    "type(temperatura)"
   ]
  },
  {
   "cell_type": "code",
   "execution_count": 41,
   "id": "49729c7e",
   "metadata": {},
   "outputs": [
    {
     "name": "stdout",
     "output_type": "stream",
     "text": [
      "<class 'int'>\n"
     ]
    }
   ],
   "source": [
    "temperatura = int(temperatura) # redefino el tipo y asigno a la variable temperatura un valor entero\n",
    "# int es una palabra reservada -> convertir una variable a entero\n",
    "print(type(temperatura))"
   ]
  },
  {
   "cell_type": "code",
   "execution_count": 38,
   "id": "1cb1f9d6",
   "metadata": {},
   "outputs": [],
   "source": [
    "# Si la temperatura es mayor a 20 grados mostrar un mensaje que diga está para pileta\n",
    "# En caso contrario, mostrar un mensaje que diga, abrigate"
   ]
  },
  {
   "cell_type": "code",
   "execution_count": 42,
   "id": "cad599f5",
   "metadata": {},
   "outputs": [
    {
     "name": "stdout",
     "output_type": "stream",
     "text": [
      "El día está para pileta\n"
     ]
    }
   ],
   "source": [
    "if temperatura > 20: # si la temperatura es mayor a 20\n",
    "    print(\"El día está para pileta\")\n",
    "else: # en caso que no se cumpla la primer condicion, se ejecutara el siguiente bloque\n",
    "    print(\"Abrigate!!! 🥶\")"
   ]
  },
  {
   "cell_type": "markdown",
   "id": "8a9b275a",
   "metadata": {},
   "source": [
    "### Casteo de variables\n",
    "\n",
    "Convertir un tipo de datos a otro distinto"
   ]
  },
  {
   "cell_type": "code",
   "execution_count": 43,
   "id": "f040e23f",
   "metadata": {},
   "outputs": [
    {
     "name": "stdout",
     "output_type": "stream",
     "text": [
      "<class 'str'>\n",
      "<class 'int'>\n"
     ]
    }
   ],
   "source": [
    "nombre = \"leo\"\n",
    "print(type(nombre)) # str\n",
    "nombre = 18 # redefino la variable\n",
    "print(type(nombre)) # int cambia en tiempo de ejecucion (a medida que pasa el programa)"
   ]
  },
  {
   "cell_type": "code",
   "execution_count": 45,
   "id": "31c5bbf5",
   "metadata": {},
   "outputs": [
    {
     "ename": "ValueError",
     "evalue": "invalid literal for int() with base 10: 'alumn@s'",
     "output_type": "error",
     "traceback": [
      "\u001b[0;31m---------------------------------------------------------------------------\u001b[0m",
      "\u001b[0;31mValueError\u001b[0m                                Traceback (most recent call last)",
      "Cell \u001b[0;32mIn[45], line 2\u001b[0m\n\u001b[1;32m      1\u001b[0m texto \u001b[38;5;241m=\u001b[39m \u001b[38;5;124m\"\u001b[39m\u001b[38;5;124malumn@s\u001b[39m\u001b[38;5;124m\"\u001b[39m\n\u001b[0;32m----> 2\u001b[0m \u001b[38;5;28;43mint\u001b[39;49m\u001b[43m(\u001b[49m\u001b[43mtexto\u001b[49m\u001b[43m)\u001b[49m\n",
      "\u001b[0;31mValueError\u001b[0m: invalid literal for int() with base 10: 'alumn@s'"
     ]
    }
   ],
   "source": [
    "texto = \"alumn@s\"\n",
    "int(texto)"
   ]
  },
  {
   "cell_type": "code",
   "execution_count": 47,
   "id": "4992fb5d",
   "metadata": {},
   "outputs": [
    {
     "data": {
      "text/plain": [
       "20"
      ]
     },
     "execution_count": 47,
     "metadata": {},
     "output_type": "execute_result"
    }
   ],
   "source": [
    "numero = \"20\"\n",
    "int(numero)"
   ]
  },
  {
   "cell_type": "code",
   "execution_count": 52,
   "id": "4f71ad25",
   "metadata": {},
   "outputs": [
    {
     "name": "stdout",
     "output_type": "stream",
     "text": [
      "El numero NO es cincuenta\n"
     ]
    }
   ],
   "source": [
    "palabra = \"cuarenta\"\n",
    "if palabra == \"cincuenta\":\n",
    "    print(\"El numero es: \", 50)\n",
    "else:\n",
    "    print(\"El numero NO es cincuenta\")"
   ]
  },
  {
   "cell_type": "code",
   "execution_count": null,
   "id": "8d6b22bb",
   "metadata": {},
   "outputs": [],
   "source": []
  }
 ],
 "metadata": {
  "kernelspec": {
   "display_name": "Python 3 (ipykernel)",
   "language": "python",
   "name": "python3"
  },
  "language_info": {
   "codemirror_mode": {
    "name": "ipython",
    "version": 3
   },
   "file_extension": ".py",
   "mimetype": "text/x-python",
   "name": "python",
   "nbconvert_exporter": "python",
   "pygments_lexer": "ipython3",
   "version": "3.10.11"
  }
 },
 "nbformat": 4,
 "nbformat_minor": 5
}
